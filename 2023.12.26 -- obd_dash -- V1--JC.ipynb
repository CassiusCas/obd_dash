{
 "cells": [
  {
   "cell_type": "code",
   "execution_count": 1,
   "metadata": {},
   "outputs": [],
   "source": [
    "#requires python 3.10 for compatability with python-obd library"
   ]
  },
  {
   "cell_type": "code",
   "execution_count": 2,
   "metadata": {},
   "outputs": [],
   "source": [
    "import obd\n",
    "#pyserial is a dependency of obd but does not need to be imported\n",
    "from obd import OBDStatus\n",
    "import logging\n",
    "import serial.tools.list_ports\n",
    "import time\n",
    "import sys\n",
    "from PyQt5.QtWidgets import QApplication, QMainWindow, QTableWidget, QTableWidgetItem, QVBoxLayout, QWidget, QCheckBox, QPushButton, QHBoxLayout\n",
    "from PyQt5.QtCore import Qt\n",
    "import os\n",
    "import json"
   ]
  },
  {
   "cell_type": "markdown",
   "metadata": {},
   "source": [
    "# List USB Ports"
   ]
  },
  {
   "cell_type": "code",
   "execution_count": 3,
   "metadata": {},
   "outputs": [],
   "source": [
    "#if it needs to be set manually the top usb 3.0 port \n",
    "#Bus 001 Device 007: ID 0403:6015 Future Technology Devices International, Ltd Bridge(I2C/SPI/UART/FIFO)\n"
   ]
  },
  {
   "cell_type": "markdown",
   "metadata": {},
   "source": [
    "# Create Interface"
   ]
  },
  {
   "cell_type": "code",
   "execution_count": 4,
   "metadata": {},
   "outputs": [
    {
     "ename": "SystemExit",
     "evalue": "0",
     "output_type": "error",
     "traceback": [
      "An exception has occurred, use %tb to see the full traceback.\n",
      "\u001b[1;31mSystemExit\u001b[0m\u001b[1;31m:\u001b[0m 0\n"
     ]
    },
    {
     "name": "stderr",
     "output_type": "stream",
     "text": [
      "c:\\Users\\jonathan.cascioli\\anaconda3\\Lib\\site-packages\\IPython\\core\\interactiveshell.py:3534: UserWarning: To exit: use 'exit', 'quit', or Ctrl-D.\n",
      "  warn(\"To exit: use 'exit', 'quit', or Ctrl-D.\", stacklevel=1)\n"
     ]
    }
   ],
   "source": [
    "class PIDSelectionPage(QMainWindow):\n",
    "    def __init__(self):\n",
    "        super().__init__()\n",
    "        self.setWindowTitle(\"PID Selection\")\n",
    "        self.showFullScreen()  # Launch in full-screen mode\n",
    "\n",
    "        # Main layout\n",
    "        self.layout = QVBoxLayout()\n",
    "\n",
    "        # Top bar layout with Quit button\n",
    "        self.top_bar_layout = QHBoxLayout()\n",
    "        self.quit_button = QPushButton(\"Quit\")\n",
    "        self.quit_button.clicked.connect(self.close_application)\n",
    "        self.top_bar_layout.addWidget(self.quit_button)\n",
    "        self.top_bar_layout.addStretch()  # Pushes the quit button to the right\n",
    "        self.layout.addLayout(self.top_bar_layout)\n",
    "\n",
    "        # OBD Connect and Check Supported PIDs buttons\n",
    "        self.connect_button = QPushButton(\"Connect to OBD\")\n",
    "        self.connect_button.clicked.connect(self.connect_to_obd)\n",
    "        self.layout.addWidget(self.connect_button)\n",
    "\n",
    "        self.check_pids_button = QPushButton(\"Check Vehicle Supported PIDs\")\n",
    "        self.check_pids_button.clicked.connect(self.check_supported_pids)\n",
    "        self.layout.addWidget(self.check_pids_button)\n",
    "\n",
    "        # Table widget for displaying PIDs\n",
    "        self.table_widget = QTableWidget()\n",
    "        self.layout.addWidget(self.table_widget)\n",
    "        self.central_widget = QWidget()\n",
    "        self.central_widget.setLayout(self.layout)\n",
    "        self.setCentralWidget(self.central_widget)\n",
    "\n",
    "        self.connection = None\n",
    "        self.initUI()\n",
    "\n",
    "    def initUI(self):\n",
    "        # Populate the table with PIDs from module 1\n",
    "        all_pids = {name: getattr(obd.commands, name) for name in dir(obd.commands) if not name.startswith(\"__\")}\n",
    "        module_one_pids = {name: cmd for name, cmd in all_pids.items() if isinstance(cmd, obd.OBDCommand) and cmd.mode == 1}\n",
    "\n",
    "        self.table_widget.setColumnCount(5)  # PID, Name, Description, Response Value, Active\n",
    "        self.table_widget.setHorizontalHeaderLabels([\"PID\", \"Name\", \"Description\", \"Response Value\", \"Active\"])\n",
    "\n",
    "        self.table_widget.setRowCount(len(module_one_pids))\n",
    "        for row, (pid_name, pid_cmd) in enumerate(sorted(module_one_pids.items(), key=lambda x: x[1].pid)):\n",
    "            self.table_widget.setItem(row, 0, QTableWidgetItem(str(pid_cmd.pid)))  # PID\n",
    "            self.table_widget.setItem(row, 1, QTableWidgetItem(pid_cmd.name))  # Name\n",
    "            self.table_widget.setItem(row, 2, QTableWidgetItem(pid_cmd.desc))  # Description\n",
    "            self.table_widget.setItem(row, 3, QTableWidgetItem(''))  # Response Value\n",
    "\n",
    "            # Add a checkbox in the 'Active' column\n",
    "            checkbox = QCheckBox()\n",
    "            checkbox.setCheckState(Qt.Unchecked)\n",
    "            self.table_widget.setCellWidget(row, 4, checkbox)\n",
    "\n",
    "        self.table_widget.resizeColumnsToContents()\n",
    "\n",
    "    def close_application(self):\n",
    "        if self.connection:\n",
    "            self.connection.close()  # Close the OBD connection\n",
    "        self.close()  # Close the application\n",
    "    def connect_to_obd(self):\n",
    "        self.connection = obd.OBD()  # Try to connect to OBD-II adapter\n",
    "\n",
    "    def check_supported_pids(self):\n",
    "        cache_file = \"supported_pids.json\"\n",
    "        if self.connection and self.connection.is_connected():\n",
    "            supported_pids = self.get_supported_pids()\n",
    "            # Cache the supported PIDs\n",
    "            with open(cache_file, \"w\") as file:\n",
    "                json.dump(supported_pids, file)\n",
    "            self.update_table_with_supported_pids(supported_pids)\n",
    "        elif os.path.exists(cache_file):\n",
    "            # Load supported PIDs from cache if available\n",
    "            with open(cache_file, \"r\") as file:\n",
    "                supported_pids = json.load(file)\n",
    "            self.update_table_with_supported_pids(supported_pids)\n",
    "\n",
    "    def get_supported_pids(self):\n",
    "        supported_pids = []\n",
    "        for cmd in obd.commands:\n",
    "            if self.connection.supports(cmd):\n",
    "                supported_pids.append(cmd.name)\n",
    "        return supported_pids\n",
    "\n",
    "    def update_table_with_supported_pids(self, supported_pids):\n",
    "        for row in range(self.table_widget.rowCount()):\n",
    "            pid_name = self.table_widget.item(row, 1).text()\n",
    "            if pid_name not in supported_pids:\n",
    "                for col in range(self.table_widget.columnCount()):\n",
    "                    item = self.table_widget.item(row, col)\n",
    "                    if item:\n",
    "                        item.setFlags(item.flags() & ~Qt.ItemIsEnabled)\n",
    "\n",
    "def main():\n",
    "    app = QApplication(sys.argv)\n",
    "    ex = PIDSelectionPage()\n",
    "    ex.show()\n",
    "    sys.exit(app.exec_())\n",
    "\n",
    "if __name__ == '__main__':\n",
    "    main()\n"
   ]
  },
  {
   "cell_type": "markdown",
   "metadata": {},
   "source": [
    "## Establish Asynch Connection:\n",
    "\n",
    "Async is a subclass of OBD, and therefore inherits all of the standard methods. However, Async adds a few in order to control a threaded update loop. This loop will keep the values of your commands up to date with the vehicle. This way, when the user querys the car, the latest response is returned immediately.\n",
    "\n",
    "documentation:\n",
    "https://python-obd.readthedocs.io/en/latest/Async%20Connections/\n",
    "\n"
   ]
  },
  {
   "cell_type": "code",
   "execution_count": null,
   "metadata": {},
   "outputs": [],
   "source": [
    "#set to auto if vehicle protocol unknown\n",
    "manual_protocol_set = \"J1850PWM\" #1997 ford f360 specific"
   ]
  },
  {
   "cell_type": "code",
   "execution_count": null,
   "metadata": {},
   "outputs": [],
   "source": [
    "\n",
    "# Setting up logging for better debugging\n",
    "logging.basicConfig(level=logging.INFO)\n",
    "\n",
    "def on_connect(connection):\n",
    "    if connection.is_connected():\n",
    "        logging.info(\"Successfully connected to OBDLink EX.\")\n",
    "        # Introduce a 10 second delay before starting async commands\n",
    "        time.sleep(10)\n",
    "        start_monitoring()\n",
    "    else:\n",
    "        logging.error(\"Failed to connect to OBDLink EX. Please check the connection.\")\n",
    "\n",
    "def on_disconnect():\n",
    "    logging.info(\"Disconnected from OBDLink EX.\")\n",
    "\n",
    "def start_monitoring():\n",
    "    # Function to handle callback for each command\n",
    "    def data_callback(response, cmd_name):\n",
    "        if response.value is not None:\n",
    "            logging.info(f\"{cmd_name}: {response.value}\")\n",
    "        else:\n",
    "            logging.warning(f\"{cmd_name}: No data received\")\n",
    "\n",
    "    # Setting up monitoring for various OBD commands with delays\n",
    "    commands = {\n",
    "        \"OIL_TEMP\": obd.commands.OIL_TEMP,\n",
    "        \"FUEL_LEVEL\": obd.commands.FUEL_LEVEL,\n",
    "        \"RUN_TIME\": obd.commands.RUN_TIME,\n",
    "        \"SPEED\": obd.commands.SPEED,\n",
    "        \"MAF\": obd.commands.MAF,\n",
    "        \"FUEL_PRESSURE\": obd.commands.FUEL_PRESSURE,\n",
    "        \"COOLANT_TEMP\": obd.commands.COOLANT_TEMP,\n",
    "        \"ENGINE_LOAD\": obd.commands.ENGINE_LOAD,\n",
    "        \"CONTROL_MODULE_VOLTAGE\": obd.commands.CONTROL_MODULE_VOLTAGE # battery\n",
    "          }\n",
    "\n",
    "    for cmd_name, cmd in commands.items():\n",
    "        connection.watch(cmd, callback=lambda r, cmd_name=cmd_name: data_callback(r, cmd_name))\n",
    "        time.sleep(0.5)  # Introduce a 500ms delay between each command setup\n",
    "\n",
    "# Configure the OBD connection\n",
    "manual_protocol_set = \"AUTO\"  # Replace with specific protocol if needed\n",
    "connection = obd.Async(port=None,  # manually set USB port if not working with None\n",
    "                       fast=False,\n",
    "                       baudrate=115200,\n",
    "                       protocol=manual_protocol_set,\n",
    "                       check_voltage=True)\n",
    "\n",
    "# Setting up connection and disconnection handlers\n",
    "connection.connect(on_connect_callback=on_connect, on_disconnect_callback=on_disconnect)\n",
    "\n",
    "# Keep the script running to maintain connection and handle callbacks\n",
    "try:\n",
    "    while True:\n",
    "        pass\n",
    "except KeyboardInterrupt:\n",
    "    # Disconnect before closing the script\n",
    "    connection.close()\n",
    "    logging.info(\"Program terminated.\")\n"
   ]
  }
 ],
 "metadata": {
  "kernelspec": {
   "display_name": "obd_dash",
   "language": "python",
   "name": "python3"
  },
  "language_info": {
   "codemirror_mode": {
    "name": "ipython",
    "version": 3
   },
   "file_extension": ".py",
   "mimetype": "text/x-python",
   "name": "python",
   "nbconvert_exporter": "python",
   "pygments_lexer": "ipython3",
   "version": "3.11.5"
  }
 },
 "nbformat": 4,
 "nbformat_minor": 2
}
